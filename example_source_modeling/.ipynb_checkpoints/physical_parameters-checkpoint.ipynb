{
 "cells": [
  {
   "cell_type": "code",
   "execution_count": 1,
   "id": "90b43cb5",
   "metadata": {},
   "outputs": [],
   "source": [
    "import numpy as np\n",
    "import sys\n",
    "#sys.path.append('/home/user/Documents/GAMERA/lib')\n",
    "#import gappa as gp\n",
    "#import utilities as util\n",
    "#import utilities_simple_model as util_scipy\n",
    "from scipy.stats import norm\n",
    "from astropy import units as u\n",
    "from astropy.coordinates import SkyCoord\n",
    "import pandas as pd\n",
    "import scipy.constants as cs\n",
    "import matplotlib.pyplot as plt"
   ]
  },
  {
   "cell_type": "markdown",
   "id": "65fd5d14",
   "metadata": {},
   "source": [
    "### Extension in pc:"
   ]
  },
  {
   "cell_type": "markdown",
   "id": "ede9ba04",
   "metadata": {},
   "source": [
    "- Extension of elongated extended component: 0.603 deg\n",
    "- Extension of the Fermi-LAT low energy component: 0.355 deg\n",
    "- Extension of the compact component: 0.057"
   ]
  },
  {
   "cell_type": "code",
   "execution_count": 2,
   "id": "413618ca",
   "metadata": {},
   "outputs": [],
   "source": [
    "def extension(angular_extension, Distance):\n",
    "    ext = 2*Distance*np.tan(np.radians(0.5*angular_extension))\n",
    "    return ext"
   ]
  },
  {
   "cell_type": "code",
   "execution_count": 3,
   "id": "721e35a4",
   "metadata": {},
   "outputs": [],
   "source": [
    "distance_low = 6200\n",
    "distance_high = 12000\n",
    "extension_hess = 0.603\n",
    "extension_fermi = 0.355\n",
    "\n",
    "#calculate physical extension:\n",
    "hess_comp_6kpc = extension(extension_hess, distance_low)\n",
    "hess_comp_12kpc = extension(extension_hess, distance_high)\n",
    "fermi_comp_6kpc = extension(extension_fermi, distance_low)\n",
    "fermi_comp_12kpc = extension(extension_fermi, distance_high)"
   ]
  },
  {
   "cell_type": "code",
   "execution_count": 4,
   "id": "6d7401d5",
   "metadata": {},
   "outputs": [
    {
     "name": "stdout",
     "output_type": "stream",
     "text": [
      "The elongated component has a extension of 65.25148169624053 to 126.29319037982039 pc\n",
      "The low energy component has a extension of 38.414819729996935 to 74.35126399354245 pc\n"
     ]
    }
   ],
   "source": [
    "print('The elongated component has a extension of', hess_comp_6kpc, 'to', hess_comp_12kpc, 'pc')\n",
    "print('The low energy component has a extension of', fermi_comp_6kpc, 'to', fermi_comp_12kpc, 'pc')"
   ]
  },
  {
   "cell_type": "code",
   "execution_count": 5,
   "id": "c1b2f2d2",
   "metadata": {},
   "outputs": [],
   "source": [
    "#t_cool_6kpc = np.array([4400, 4700]) *365 *24* 60* 60  # in s, braking index 3\n",
    "t_cool_6kpc = np.array([5920, 7050]) *365 *24* 60* 60  # in s, braking index 2\n",
    "t_cool_12kpc = np.array([4800, 5000]) *365 *24* 60* 60  # in s\n",
    "ext_6kpc = hess_comp_6kpc * 3.086e18   # in cm\n",
    "ext_12kpc = hess_comp_12kpc * 3.086e18   # in cm"
   ]
  },
  {
   "cell_type": "markdown",
   "id": "b0db0087",
   "metadata": {},
   "source": [
    "### Electron energy for a given gamma-ray photon energy:"
   ]
  },
  {
   "cell_type": "code",
   "execution_count": 6,
   "id": "31e347e8",
   "metadata": {},
   "outputs": [],
   "source": [
    "# diffusion coefficient takes electron energy --> calculate electron energy that produces gamma ray energy\n",
    "# https://www.mpe.mpg.de/~rod/papers/Universe_2_Processes.pdf\n",
    "cmb_energy = 6.626*10**-4 # in eV\n",
    "edens_cmb = 0.26 # in eV/cm3\n",
    "#cmb_energy = np.divide(E_cmb, 2*10**-4)"
   ]
  },
  {
   "cell_type": "code",
   "execution_count": 7,
   "id": "4e6530d7",
   "metadata": {},
   "outputs": [],
   "source": [
    "def calculate_electron_energy(cmb_energy, photon_energy):  \n",
    "    return np.sqrt(np.divide(2*10**-4*photon_energy, 1.3*cmb_energy))   # photon energy in GeV, resulting electron energy is in TeV"
   ]
  },
  {
   "cell_type": "code",
   "execution_count": 8,
   "id": "02922473",
   "metadata": {},
   "outputs": [],
   "source": [
    "photon_energy = 700 # photon energy in GeV\n",
    "electron_energy = calculate_electron_energy(cmb_energy, photon_energy) # in TeV\n",
    "energy = electron_energy * 1e12  # in eV"
   ]
  },
  {
   "cell_type": "markdown",
   "id": "fec60a96",
   "metadata": {},
   "source": [
    "### electron cooling time:"
   ]
  },
  {
   "cell_type": "code",
   "execution_count": 9,
   "id": "c87bbc01",
   "metadata": {},
   "outputs": [
    {
     "name": "stdout",
     "output_type": "stream",
     "text": [
      "2963533329833.546\n",
      "93973.04918235577\n"
     ]
    }
   ],
   "source": [
    "#cooling time from Alisons thesis:\n",
    "zahler = 0.75*(0.511*10**6)**2\n",
    "nenner = 6.65*10**(-25)*2.998*10**10*edens_cmb\n",
    "\n",
    "print(np.divide(zahler, nenner*energy))\n",
    "print(np.divide(zahler, nenner*energy)*3.17098e-8)"
   ]
  },
  {
   "cell_type": "code",
   "execution_count": 10,
   "id": "8b641113",
   "metadata": {},
   "outputs": [],
   "source": [
    "def electron_cooling_time(electron_energy, photon_energy, energy_density_cmb):\n",
    "    f_kn = (1+40*electron_energy*(8.617*10**-5)*photon_energy)**(-1.5)\n",
    "    tau = np.divide(3.1*10**5, energy_density_cmb*electron_energy*f_kn)\n",
    "    return tau"
   ]
  },
  {
   "cell_type": "code",
   "execution_count": 11,
   "id": "61964ebc",
   "metadata": {},
   "outputs": [
    {
     "name": "stdout",
     "output_type": "stream",
     "text": [
      "electron cooling time, 1st energy bin: 93527.79318371485\n",
      "electron cooling time, 2nd energy bin: 55333.4567826621\n",
      "electron cooling time, 3rd energy bin: 11069.959259600473\n"
     ]
    }
   ],
   "source": [
    "# for first energy bin: \n",
    "photon_energy = 700 # photon energy in GeV\n",
    "electron_energy = calculate_electron_energy(cmb_energy, photon_energy) # in TeV\n",
    "print('electron cooling time, 1st energy bin:',electron_cooling_time(electron_energy, cmb_energy, edens_cmb))\n",
    "\n",
    "#for second energy bin: \n",
    "photon_energy = 2000 # photon energy in GeV\n",
    "electron_energy = calculate_electron_energy(cmb_energy, photon_energy) # in TeV\n",
    "print('electron cooling time, 2nd energy bin:',electron_cooling_time(electron_energy, cmb_energy, edens_cmb))\n",
    "\n",
    "#for third energy bin: \n",
    "photon_energy = 50000 # photon energy in GeV\n",
    "electron_energy = calculate_electron_energy(cmb_energy, photon_energy) # in TeV\n",
    "print('electron cooling time, 3rd energy bin:',electron_cooling_time(electron_energy, cmb_energy, edens_cmb))"
   ]
  },
  {
   "cell_type": "code",
   "execution_count": 12,
   "id": "56cc67b2",
   "metadata": {},
   "outputs": [
    {
     "data": {
      "text/plain": [
       "2.1282708863184106e+35"
      ]
     },
     "execution_count": 12,
     "metadata": {},
     "output_type": "execute_result"
    }
   ],
   "source": [
    "np.divide((2*10**20)**2, 2*93973)"
   ]
  },
  {
   "cell_type": "markdown",
   "id": "e4b2010a",
   "metadata": {},
   "source": [
    "### Diffusion coefficient:"
   ]
  },
  {
   "cell_type": "code",
   "execution_count": 13,
   "id": "b6b9a96d",
   "metadata": {},
   "outputs": [],
   "source": [
    "#from Alisons thesis:\n",
    "D_0 = 1*10**28 #[1/scm2]\n",
    "normalization = 10 #GeV, energy for which D_0 is given\n",
    "\n",
    "def diffusion_coefficient(D_0, normalization, electron_energy, delta):\n",
    "    D = D_0*(np.divide(electron_energy, normalization)**delta)   #diffusion coefficient\n",
    "    #delta = np.log(D/D_0) /np.log(particle_energy)     #diffusion exponent\n",
    "    return D#, delta"
   ]
  },
  {
   "cell_type": "code",
   "execution_count": 14,
   "id": "8323b3ee",
   "metadata": {},
   "outputs": [
    {
     "ename": "TypeError",
     "evalue": "diffusion_coefficient() missing 2 required positional arguments: 'electron_energy' and 'delta'",
     "output_type": "error",
     "traceback": [
      "\u001b[0;31m---------------------------------------------------------------------------\u001b[0m",
      "\u001b[0;31mTypeError\u001b[0m                                 Traceback (most recent call last)",
      "Cell \u001b[0;32mIn [14], line 1\u001b[0m\n\u001b[0;32m----> 1\u001b[0m D_6kpc_high \u001b[38;5;241m=\u001b[39m \u001b[43mdiffusion_coefficient\u001b[49m\u001b[43m(\u001b[49m\u001b[43mt_cool_6kpc\u001b[49m\u001b[43m[\u001b[49m\u001b[38;5;241;43m0\u001b[39;49m\u001b[43m]\u001b[49m\u001b[43m,\u001b[49m\u001b[43m \u001b[49m\u001b[43mext_6kpc\u001b[49m\u001b[43m)\u001b[49m\n\u001b[1;32m      2\u001b[0m D_6kpc_low \u001b[38;5;241m=\u001b[39m diffusion_coefficient(t_cool_6kpc[\u001b[38;5;241m1\u001b[39m], ext_6kpc)\n\u001b[1;32m      3\u001b[0m D_12kpc_high \u001b[38;5;241m=\u001b[39m diffusion_coefficient(t_cool_12kpc[\u001b[38;5;241m0\u001b[39m], ext_12kpc)\n",
      "\u001b[0;31mTypeError\u001b[0m: diffusion_coefficient() missing 2 required positional arguments: 'electron_energy' and 'delta'"
     ]
    }
   ],
   "source": [
    "D_6kpc_high = diffusion_coefficient(t_cool_6kpc[0], ext_6kpc)\n",
    "D_6kpc_low = diffusion_coefficient(t_cool_6kpc[1], ext_6kpc)\n",
    "D_12kpc_high = diffusion_coefficient(t_cool_12kpc[0], ext_12kpc)\n",
    "D_12kpc_low = diffusion_coefficient(t_cool_12kpc[1], ext_12kpc)"
   ]
  },
  {
   "cell_type": "code",
   "execution_count": 15,
   "id": "fb6abb06",
   "metadata": {},
   "outputs": [
    {
     "ename": "NameError",
     "evalue": "name 'D_6kpc_low' is not defined",
     "output_type": "error",
     "traceback": [
      "\u001b[0;31m---------------------------------------------------------------------------\u001b[0m",
      "\u001b[0;31mNameError\u001b[0m                                 Traceback (most recent call last)",
      "Cell \u001b[0;32mIn [15], line 1\u001b[0m\n\u001b[0;32m----> 1\u001b[0m \u001b[38;5;28mprint\u001b[39m(\u001b[38;5;124m'\u001b[39m\u001b[38;5;124mFor a distance of 6.2kpc, the diffusion coefficient lies between\u001b[39m\u001b[38;5;124m'\u001b[39m, \u001b[43mD_6kpc_low\u001b[49m, \u001b[38;5;124m'\u001b[39m\u001b[38;5;124mand\u001b[39m\u001b[38;5;124m'\u001b[39m, D_6kpc_high)\n\u001b[1;32m      2\u001b[0m \u001b[38;5;28mprint\u001b[39m(\u001b[38;5;124m'\u001b[39m\u001b[38;5;124m----------------------------------------------------------------------------------------------------------------------\u001b[39m\u001b[38;5;124m'\u001b[39m)\n\u001b[1;32m      3\u001b[0m \u001b[38;5;28mprint\u001b[39m(\u001b[38;5;124m'\u001b[39m\u001b[38;5;124mFor a distance of 12kpc, the diffusion coefficient lies between\u001b[39m\u001b[38;5;124m'\u001b[39m, D_12kpc_low, \u001b[38;5;124m'\u001b[39m\u001b[38;5;124mand\u001b[39m\u001b[38;5;124m'\u001b[39m, D_12kpc_high)\n",
      "\u001b[0;31mNameError\u001b[0m: name 'D_6kpc_low' is not defined"
     ]
    }
   ],
   "source": [
    "print('For a distance of 6.2kpc, the diffusion coefficient lies between', D_6kpc_low, 'and', D_6kpc_high)\n",
    "print('----------------------------------------------------------------------------------------------------------------------')\n",
    "print('For a distance of 12kpc, the diffusion coefficient lies between', D_12kpc_low, 'and', D_12kpc_high)"
   ]
  },
  {
   "cell_type": "code",
   "execution_count": 16,
   "id": "1860cbb2",
   "metadata": {},
   "outputs": [
    {
     "data": {
      "text/plain": [
       "2.195975327145904e+29"
      ]
     },
     "execution_count": 16,
     "metadata": {},
     "output_type": "execute_result"
    }
   ],
   "source": [
    "np.divide((80*3.086*10**18)**2, 2*(4400*3.154*10**7))"
   ]
  },
  {
   "cell_type": "markdown",
   "id": "2412180c",
   "metadata": {},
   "source": [
    "### speed:"
   ]
  },
  {
   "cell_type": "code",
   "execution_count": 17,
   "id": "93e09c99",
   "metadata": {},
   "outputs": [
    {
     "data": {
      "text/plain": [
       "array([0.03597802, 0.03021133])"
      ]
     },
     "execution_count": 17,
     "metadata": {},
     "output_type": "execute_result"
    }
   ],
   "source": [
    "import scipy.constants as cs\n",
    "np.divide(hess_comp_6kpc * 3.086e16, t_cool_6kpc )/cs.c"
   ]
  },
  {
   "cell_type": "code",
   "execution_count": 18,
   "id": "ea92cb2d",
   "metadata": {},
   "outputs": [
    {
     "data": {
      "text/plain": [
       "array([25747081.74203858, 24717198.47235703])"
      ]
     },
     "execution_count": 18,
     "metadata": {},
     "output_type": "execute_result"
    }
   ],
   "source": [
    "np.divide(hess_comp_12kpc * 3.086e16,t_cool_12kpc)"
   ]
  },
  {
   "cell_type": "markdown",
   "id": "eba17377",
   "metadata": {},
   "source": [
    "### energy density estimates:"
   ]
  },
  {
   "cell_type": "code",
   "execution_count": 19,
   "id": "51c3f0e3",
   "metadata": {},
   "outputs": [],
   "source": [
    "\n",
    "ang_size_comp1 = 0.5439 #deg #semi-major axis\n",
    "eccentricity = 0.73086\n",
    "ang_size_comp1_err = 0.02669 #deg #semi-major axis\n",
    "eccentricity_err = 0.04424\n",
    "distance = 6.2e3 #pc\n",
    "ang_size_comp2 = 0.056197 #deg #semi-major axis\n",
    "ang_size_comp2_err = 0.0026\n",
    "\n",
    "distance = 6.2e3 #pc\n",
    "e_dot = 5.6e37\n",
    "char_age = 5585 # in years\n",
    "char_age_error = 157.48 #in seconds\n",
    "true_age = 6400\n",
    "\n",
    "total_E = 4.903011306570967e+48"
   ]
  },
  {
   "cell_type": "code",
   "execution_count": null,
   "id": "ede5c862",
   "metadata": {},
   "outputs": [],
   "source": []
  },
  {
   "cell_type": "code",
   "execution_count": 25,
   "id": "d108f427",
   "metadata": {},
   "outputs": [],
   "source": [
    "def caclulate_properties(distance, ang_size, ang_size_err, total_E, e_dot, char_age, char_age_err, eccentricity=0, eccentricity_err=0):\n",
    "    #conversions\n",
    "    yr_to_sec = 3.154e7\n",
    "    pc_to_cm = 3.086e18\n",
    "    erg_to_eV = 6.242e11\n",
    "    #extension of semi-major axis\n",
    "    proj_size = np.deg2rad(ang_size) * distance #* pc_to_cm\n",
    "    proj_size_err = np.deg2rad(ang_size_err) * distance #* pc_to_cm\n",
    "    print(r'semi-major axis', proj_size, r'$\\pm$', proj_size_err, 'pc')\n",
    "    \n",
    "    #extension of semi-minor axis\n",
    "    semi_minor_axis = ang_size * np.sqrt(1-eccentricity**2) \n",
    "    semi_minor_axis_err = np.sqrt( (ang_size_err * np.sqrt(1-eccentricity**2))**2 +\n",
    "                                  (-eccentricity*eccentricity_err*ang_size*(1-eccentricity**2)**(-0.5))**2)\n",
    "    proj_size_minor = np.deg2rad(semi_minor_axis) * distance# * pc_to_cm\n",
    "    proj_size_minor_err = np.deg2rad(semi_minor_axis_err) * distance #* pc_to_cm\n",
    "    print(r'semi-minor axis', proj_size_minor, r'$\\pm$', proj_size_minor_err, 'cm')\n",
    "\n",
    "    #Volume of the elipse:\n",
    "    volume =  4/3 * np.pi * np.power(proj_size_minor,2) * (proj_size)\n",
    "    volume_err = np.sqrt((4/3*np.pi*proj_size_minor**2*proj_size_err)**2 + (4/3*np.pi*2*proj_size*proj_size_minor*proj_size_minor_err)**2)\n",
    "    print(r'volume', volume, r'$\\pm$', volume_err, 'cm^3')\n",
    "    \n",
    "    #energy density from gamma luminosity:\n",
    "    edens_lum = total_E/(volume* pc_to_cm**3) * erg_to_eV\n",
    "    edens_lum_err = ((total_E*(volume_err* pc_to_cm**3))/(volume* pc_to_cm**3)**2) * erg_to_eV\n",
    "    print(r'energy density from gamma luminosity', edens_lum, r'$\\pm$', edens_lum_err, 'eV/cm^3')\n",
    "    \n",
    "    #energy density from char age:\n",
    "    edens_char = (e_dot * char_age * yr_to_sec)/(volume* pc_to_cm**3) * erg_to_eV\n",
    "    edens_char_err = np.sqrt((e_dot/(volume* pc_to_cm**3)*char_age_err)**2 \n",
    "                             + ((e_dot*char_age*yr_to_sec*(volume_err* pc_to_cm**3))/(volume* pc_to_cm**3)**2)**2 ) * erg_to_eV\n",
    "    print(r'energy density from characteristic age', edens_char, r'$\\pm$', edens_char_err, 'eV/cm^3')"
   ]
  },
  {
   "cell_type": "code",
   "execution_count": 163,
   "id": "b50bdce4",
   "metadata": {},
   "outputs": [
    {
     "name": "stdout",
     "output_type": "stream",
     "text": [
      "semi-major axis 95.95717561038235 $\\pm$ 2.8881359396151765 cm\n",
      "semi-minor axis 68.05352981091771 $\\pm$ 4.690794750984007 cm\n",
      "volume 1861518.5922851015 $\\pm$ 262666.70756974013 cm^3\n",
      "energy density from gamma luminosity 0.05594116618660623 $\\pm$ 0.007893491905342777 eV/cm^3\n",
      "energy density from characteristic age 0.11254896729003638 $\\pm$ 0.01588104830162261 eV/cm^3\n"
     ]
    }
   ],
   "source": [
    "caclulate_properties(distance, ang_size_comp1, ang_size_comp1_err, total_E, e_dot, char_age, char_age_error, eccentricity, eccentricity_err)"
   ]
  },
  {
   "cell_type": "code",
   "execution_count": 164,
   "id": "03c77af7",
   "metadata": {},
   "outputs": [
    {
     "name": "stdout",
     "output_type": "stream",
     "text": [
      "semi-major axis 9.15014526964674 $\\pm$ 0.2813470754214859 cm\n",
      "semi-minor axis 9.15014526964674 $\\pm$ 0.2813470754214859 cm\n",
      "volume 3209.0211283434423 $\\pm$ 220.63377445707022 cm^3\n",
      "energy density from gamma luminosity 32.45086796428632 $\\pm$ 2.2311344167012432 eV/cm^3\n",
      "energy density from characteristic age 65.2884436635182 $\\pm$ 4.488856625679451 eV/cm^3\n"
     ]
    }
   ],
   "source": [
    "caclulate_properties(distance, ang_size_comp2, ang_size_comp2_err, total_E, e_dot, char_age, char_age_error)"
   ]
  },
  {
   "cell_type": "code",
   "execution_count": 30,
   "id": "08121503",
   "metadata": {},
   "outputs": [
    {
     "name": "stdout",
     "output_type": "stream",
     "text": [
      "energy density from gamma luminosity 0.041282373733311305 $\\pm$ 0.005825085623174727 eV/cm^3\n"
     ]
    }
   ],
   "source": [
    "total_E = 3.61822891752613e+48\n",
    "yr_to_sec = 3.154e7\n",
    "pc_to_cm = 3.086e18\n",
    "erg_to_eV = 6.242e11\n",
    "edens_lum = total_E/(1861518.5922851015* pc_to_cm**3) * erg_to_eV\n",
    "edens_lum_err = ((total_E*(262666.70756974013* pc_to_cm**3))/(1861518.5922851015* pc_to_cm**3)**2) * erg_to_eV\n",
    "print(r'energy density from gamma luminosity', edens_lum, r'$\\pm$', edens_lum_err, 'eV/cm^3')"
   ]
  },
  {
   "cell_type": "code",
   "execution_count": null,
   "id": "dd9f0623",
   "metadata": {},
   "outputs": [],
   "source": []
  },
  {
   "cell_type": "code",
   "execution_count": null,
   "id": "a58c6150",
   "metadata": {},
   "outputs": [],
   "source": []
  },
  {
   "cell_type": "code",
   "execution_count": null,
   "id": "493fa6a1",
   "metadata": {},
   "outputs": [],
   "source": []
  },
  {
   "cell_type": "code",
   "execution_count": null,
   "id": "ab39efc5",
   "metadata": {},
   "outputs": [],
   "source": []
  },
  {
   "cell_type": "code",
   "execution_count": null,
   "id": "5c3fc41d",
   "metadata": {},
   "outputs": [],
   "source": []
  },
  {
   "cell_type": "code",
   "execution_count": null,
   "id": "dec0d1b3",
   "metadata": {},
   "outputs": [],
   "source": []
  },
  {
   "cell_type": "code",
   "execution_count": null,
   "id": "d17d72a1",
   "metadata": {},
   "outputs": [],
   "source": []
  },
  {
   "cell_type": "code",
   "execution_count": null,
   "id": "1f40f3a5",
   "metadata": {},
   "outputs": [],
   "source": []
  },
  {
   "cell_type": "code",
   "execution_count": null,
   "id": "7a179bb4",
   "metadata": {},
   "outputs": [],
   "source": []
  },
  {
   "cell_type": "code",
   "execution_count": null,
   "id": "7f450790",
   "metadata": {},
   "outputs": [],
   "source": [
    "yr_to_sec = 3.154e7\n",
    "pc_to_cm = 3.086e18\n",
    "erg_to_eV = 6.242e11\n",
    "proj_size = np.deg2rad(ang_size_comp2) * distance #in kpc"
   ]
  },
  {
   "cell_type": "code",
   "execution_count": 83,
   "id": "74079b64",
   "metadata": {},
   "outputs": [
    {
     "data": {
      "text/plain": [
       "0.0009808226797432533"
      ]
     },
     "execution_count": 83,
     "metadata": {},
     "output_type": "execute_result"
    }
   ],
   "source": [
    "np.deg2rad(ang_size_comp2)"
   ]
  },
  {
   "cell_type": "code",
   "execution_count": null,
   "id": "76a0b777",
   "metadata": {},
   "outputs": [],
   "source": []
  },
  {
   "cell_type": "code",
   "execution_count": null,
   "id": "5b106747",
   "metadata": {},
   "outputs": [],
   "source": []
  },
  {
   "cell_type": "code",
   "execution_count": null,
   "id": "57c442b7",
   "metadata": {},
   "outputs": [],
   "source": []
  },
  {
   "cell_type": "code",
   "execution_count": 80,
   "id": "c9d80572",
   "metadata": {},
   "outputs": [],
   "source": [
    "yr_to_sec = 3.154e7\n",
    "pc_to_cm = 3.086e18\n",
    "erg_to_eV = 6.242e11\n",
    "proj_size = np.deg2rad(ang_size_comp2) * distance \n",
    "semi_minor_axis = ang_size_comp2 * np.sqrt(1-eccentricity**2)\n",
    "proj_size_minor = np.deg2rad(semi_minor_axis) * distance \n",
    "proj_size_error = np.deg2rad(ang_size_comp2_err) * distance \n",
    "semi_minor_axis_error = np.sqrt((ang_size_comp2_err*np.sqrt(1-eccentricity**2))**2 + \n",
    "                                (-(ang_size_comp2_err*eccentricity*eccentricity_err)/np.sqrt(1-eccentricity**2))**2)\n",
    "proj_size_minor_error = np.deg2rad(semi_minor_axis_error) * distance "
   ]
  },
  {
   "cell_type": "code",
   "execution_count": 81,
   "id": "7386f954",
   "metadata": {},
   "outputs": [
    {
     "data": {
      "text/plain": [
       "6.081100614408171"
      ]
     },
     "execution_count": 81,
     "metadata": {},
     "output_type": "execute_result"
    }
   ],
   "source": [
    "proj_size"
   ]
  },
  {
   "cell_type": "code",
   "execution_count": 82,
   "id": "ca375c28",
   "metadata": {},
   "outputs": [
    {
     "data": {
      "text/plain": [
       "0.03835599265387459"
      ]
     },
     "execution_count": 82,
     "metadata": {},
     "output_type": "execute_result"
    }
   ],
   "source": [
    "semi_minor_axis"
   ]
  },
  {
   "cell_type": "code",
   "execution_count": null,
   "id": "4445b6d1",
   "metadata": {},
   "outputs": [],
   "source": []
  },
  {
   "cell_type": "code",
   "execution_count": null,
   "id": "6e8dd1c6",
   "metadata": {},
   "outputs": [],
   "source": []
  },
  {
   "cell_type": "code",
   "execution_count": null,
   "id": "0c3d3263",
   "metadata": {},
   "outputs": [],
   "source": []
  },
  {
   "cell_type": "code",
   "execution_count": null,
   "id": "6acd374c",
   "metadata": {},
   "outputs": [],
   "source": []
  },
  {
   "cell_type": "code",
   "execution_count": null,
   "id": "8a795723",
   "metadata": {},
   "outputs": [],
   "source": []
  },
  {
   "cell_type": "code",
   "execution_count": 71,
   "id": "21f8a220",
   "metadata": {},
   "outputs": [],
   "source": [
    "def calculate_energy_density(e_dot, char_age, distance, ang_size, ang_size_err, eccentricity=0, eccentricity_err=0):\n",
    "    #conversions\n",
    "    yr_to_sec = 3.154e7\n",
    "    pc_to_cm = 3.086e18\n",
    "    erg_to_eV = 6.242e11\n",
    "    proj_size = np.deg2rad(ang_size) * distance \n",
    "    semi_minor_axis = ang_size * np.sqrt(1-eccentricity**2)\n",
    "    proj_size_minor = np.deg2rad(semi_minor_axis) * distance \n",
    "    proj_size_error = np.deg2rad(ang_size_err) * distance \n",
    "    semi_minor_axis_error = np.sqrt((ang_size_err*np.sqrt(1-eccentricity**2))**2 + \n",
    "                                    (-(ang_size_err*eccentricity*eccentricity_err)/np.sqrt(1-eccentricity**2))**2)\n",
    "    proj_size_minor_error = np.deg2rad(semi_minor_axis_error) * distance \n",
    "    \n",
    "    total_E = e_dot * char_age * yr_to_sec\n",
    "    #volume = 4/3 * np.pi * np.power(proj_size * pc_to_cm,3)\n",
    "    volume = 4/3 * np.pi * np.power(proj_size_minor * pc_to_cm,2) * (proj_size * pc_to_cm)\n",
    "    #volume under a 2D gaussian curve: V = 2pi A* sigma_x * sigma_y with A the normalization\n",
    "    #volume = 2*np.pi * proj_size * pc_to_cm *np.power(proj_size_minor * pc_to_cm,2)\n",
    "    edens = total_E/volume * erg_to_eV\n",
    "    #also calculate the error on the energy density:\n",
    "    edens_error = np.sqrt(e_dot/(4/3*np.pi)*((char_age_error/(np.power(proj_size_minor * pc_to_cm,2) * (proj_size * pc_to_cm)))**2\n",
    "                          + (-(2*char_age * yr_to_sec*pc_to_cm*proj_size_error)/(np.power(proj_size_minor * pc_to_cm,3) * (proj_size * pc_to_cm)))**2\n",
    "                          + (-(char_age * yr_to_sec*pc_to_cm*proj_size_minor_error)/(np.power(proj_size_minor * pc_to_cm,2) * np.power(proj_size * pc_to_cm,2)))**2)\n",
    "    \n",
    ")\n",
    "    return edens, edens_error"
   ]
  },
  {
   "cell_type": "code",
   "execution_count": 76,
   "id": "47e6e792",
   "metadata": {},
   "outputs": [
    {
     "name": "stdout",
     "output_type": "stream",
     "text": [
      "extended component: 5.27e-01 pm 3.41e-32\n",
      "compact component: 2.22e+02 pm 1.01e-29\n",
      "extended component: 6.03e-01 , compact component: 2.55e+02 , true age\n"
     ]
    }
   ],
   "source": [
    "distance = 6.2e3 #pc\n",
    "e_dot = 5.6e37\n",
    "char_age = 5585 # in years\n",
    "char_age_error = 157.48 #in seconds\n",
    "true_age = 6400\n",
    "edens_comp1, edens_comp1_err = calculate_energy_density(e_dot, char_age, distance, ang_size_comp1, ang_size_comp1_err, eccentricity, eccentricity_err)\n",
    "edens_comp2, edens_comp2_err = calculate_energy_density(e_dot, char_age, distance, ang_size_comp2, ang_size_comp2_err)\n",
    "print('extended component:',\"{:.2e}\".format(edens_comp1), 'pm', \"{:.2e}\".format(edens_comp1_err))\n",
    "print('compact component:', \"{:.2e}\".format(edens_comp2), 'pm', \"{:.2e}\".format(edens_comp2_err))\n",
    "\n",
    "edens_comp1, edens_comp1_err = calculate_energy_density(e_dot, true_age, distance, ang_size_comp1, ang_size_comp1_err, eccentricity, eccentricity_err)\n",
    "edens_comp2, edens_comp2_err = calculate_energy_density(e_dot, true_age, distance, ang_size_comp2, ang_size_comp2_err)\n",
    "print('extended component:',\"{:.2e}\".format(edens_comp1),', compact component:', \"{:.2e}\".format(edens_comp2), ', true age')"
   ]
  },
  {
   "cell_type": "code",
   "execution_count": 63,
   "id": "4cc20028",
   "metadata": {},
   "outputs": [],
   "source": [
    "def calculate_energy_density(e_dot, char_age, distance, ang_size, eccentricity=0):\n",
    "    #conversions\n",
    "    yr_to_sec = 3.154e7\n",
    "    pc_to_cm = 3.086e18\n",
    "    erg_to_eV = 6.242e11\n",
    "    proj_size = np.deg2rad(ang_size) * distance \n",
    "    semi_minor_axis = ang_size * np.sqrt(1-eccentricity**2)\n",
    "    proj_size_minor = np.deg2rad(semi_minor_axis) * distance \n",
    "    \n",
    "    total_E = e_dot * char_age * yr_to_sec\n",
    "    #volume = 4/3 * np.pi * np.power(proj_size * pc_to_cm,3)\n",
    "    volume = 4/3 * np.pi * np.power(proj_size_minor * pc_to_cm,2) * (proj_size * pc_to_cm)\n",
    "    #volume under a 2D gaussian curve: V = 2pi A* sigma_x * sigma_y with A the normalization\n",
    "    #volume = 2*np.pi * proj_size * pc_to_cm *np.power(proj_size_minor * pc_to_cm,2)\n",
    "    edens = total_E/volume * erg_to_eV\n",
    "    return edens"
   ]
  },
  {
   "cell_type": "code",
   "execution_count": 67,
   "id": "bdfecc4e",
   "metadata": {},
   "outputs": [
    {
     "name": "stdout",
     "output_type": "stream",
     "text": [
      "extended component: 5.27e-01 , compact component: 2.08e+02\n",
      "extended component: 6.03e-01 , compact component: 2.38e+02 , true age\n"
     ]
    }
   ],
   "source": [
    "\n",
    "\n",
    "distance = 6.2e3 #pc\n",
    "e_dot = 5.6e37\n",
    "char_age = 5585\n",
    "true_age = 6400\n",
    "edens_comp1 = calculate_energy_density(e_dot, char_age, distance, ang_size_comp1, eccentricity)\n",
    "edens_comp2 = calculate_energy_density(e_dot, char_age, distance, ang_size_comp2)\n",
    "print('extended component:',\"{:.2e}\".format(edens_comp1), ', compact component:', \"{:.2e}\".format(edens_comp2))\n",
    "\n",
    "edens_comp1 = calculate_energy_density(e_dot, true_age, distance, ang_size_comp1, eccentricity)\n",
    "edens_comp2 = calculate_energy_density(e_dot, true_age, distance, ang_size_comp2)\n",
    "print('extended component:',\"{:.2e}\".format(edens_comp1),', compact component:', \"{:.2e}\".format(edens_comp2), ', true age')"
   ]
  },
  {
   "cell_type": "code",
   "execution_count": 51,
   "id": "b3b786b1",
   "metadata": {},
   "outputs": [
    {
     "name": "stdout",
     "output_type": "stream",
     "text": [
      "In log10 scale:\n",
      "extended component: -0.6216020990518624 , compact component: 2.1398790864012365\n",
      "extended component: -0.563837352959244 , compact component: 2.2013971243204513\n"
     ]
    }
   ],
   "source": [
    "print('In log10 scale:')\n",
    "print('extended component:', np.log10(2.39e-01), ', compact component:',np.log10(1.38e+02))\n",
    "print('extended component:', np.log10(2.73e-01), ', compact component:',np.log10(1.59e+02))"
   ]
  },
  {
   "cell_type": "markdown",
   "id": "057b2569",
   "metadata": {},
   "source": [
    "### energy density from intigrated luminosity:"
   ]
  },
  {
   "cell_type": "code",
   "execution_count": 129,
   "id": "fc8167c5",
   "metadata": {},
   "outputs": [],
   "source": [
    "def calculate_energy_density_lum(total_E, distance, ang_size, eccentricity=0):\n",
    "    #conversions\n",
    "    yr_to_sec = 3.154e7\n",
    "    pc_to_cm = 3.086e18\n",
    "    erg_to_eV = 6.242e11\n",
    "    proj_size = np.deg2rad(ang_size) * distance \n",
    "    semi_minor_axis = ang_size * np.sqrt(1-eccentricity**2)\n",
    "    proj_size_minor = np.deg2rad(semi_minor_axis) * distance \n",
    "    \n",
    "    #total_E = e_dot * char_age * yr_to_sec\n",
    "    #volume = 4/3 * np.pi * np.power(proj_size * pc_to_cm,3)\n",
    "    volume = 4/3 * np.pi * np.power(proj_size_minor * pc_to_cm,2) * (proj_size * pc_to_cm)\n",
    "    edens = total_E/volume * erg_to_eV\n",
    "    return edens"
   ]
  },
  {
   "cell_type": "code",
   "execution_count": 130,
   "id": "69f73c92",
   "metadata": {},
   "outputs": [
    {
     "name": "stdout",
     "output_type": "stream",
     "text": [
      "68% Containment radius:\n",
      "total energy in particles (electrons): 4.903011306570967e+48\n",
      "extended component: 1.78e-01 , compact component: 1.03e+02\n",
      "In log10 scale:\n",
      "extended component: -0.7497952223983807 , compact component: 2.0136995792598613\n",
      "--------------------------------------------------------------------------------------------------\n",
      "full emission:\n",
      "total energy in particles (electrons): 4.903011306570967e+48\n",
      "extended component: 5.59e-02 , compact component: 3.25e+01\n",
      "In log10 scale:\n",
      "extended component: -1.2522684842796716 , compact component: 1.5112263173785705\n"
     ]
    }
   ],
   "source": [
    "print('68% Containment radius:')\n",
    "ang_size_comp1 = 0.603 #deg #semi-major axis\n",
    "ang_size_comp2 = 0.0575 #deg\n",
    "eccentricity = 0.705\n",
    "\n",
    "distance = 6.2e3 #pc\n",
    "total_E = 4.903011306570967e+48\n",
    "print('total energy in particles (electrons):', total_E)\n",
    "edens_comp1 = calculate_energy_density_lum(total_E, distance, ang_size_comp1, eccentricity)\n",
    "edens_comp2 = calculate_energy_density_lum(total_E = total_E, distance = distance, ang_size=ang_size_comp2)\n",
    "print('extended component:',\"{:.2e}\".format(edens_comp1), ', compact component:', \"{:.2e}\".format(edens_comp2))\n",
    "\n",
    "print('In log10 scale:')\n",
    "print('extended component:', np.log10(edens_comp1), ', compact component:',np.log10(edens_comp2))\n",
    "print('--------------------------------------------------------------------------------------------------')\n",
    "print('full emission:')\n",
    "ang_size_comp1 = 0.603/0.68 #deg #semi-major axis\n",
    "ang_size_comp2 = 0.0575/0.68 #deg\n",
    "eccentricity = 0.705\n",
    "\n",
    "distance = 6.2e3 #pc\n",
    "#total_E = fp_pwn.GetParticleEnergyContent()\n",
    "print('total energy in particles (electrons):', total_E)\n",
    "edens_comp1 = calculate_energy_density_lum(total_E, distance, ang_size_comp1, eccentricity)\n",
    "edens_comp2 = calculate_energy_density_lum(total_E, distance, ang_size_comp2)\n",
    "print('extended component:',\"{:.2e}\".format(edens_comp1), ', compact component:', \"{:.2e}\".format(edens_comp2))\n",
    "\n",
    "print('In log10 scale:')\n",
    "print('extended component:', np.log10(edens_comp1), ', compact component:',np.log10(edens_comp2))"
   ]
  },
  {
   "cell_type": "markdown",
   "id": "09e542e5",
   "metadata": {},
   "source": [
    "### energy density profile E_dot:"
   ]
  },
  {
   "cell_type": "code",
   "execution_count": 3,
   "id": "a3c993a7",
   "metadata": {},
   "outputs": [],
   "source": [
    "def gaussian_energy_density(E_tot, sigma_x, sigma_y, x_0, y_0, x, y):\n",
    "    E_r = E_tot* np.divide(1, 2*np.pi*sigma_x* sigma_y)*np.exp(-np.divide(x-x_0, 2*sigma_x**2) - np.divide(y-y_0, 2*sigma_y**2))\n",
    "    return E_r"
   ]
  },
  {
   "cell_type": "code",
   "execution_count": 16,
   "id": "ac0b1c45",
   "metadata": {},
   "outputs": [],
   "source": [
    "#constants\n",
    "yr_to_sec = 3.154e7\n",
    "e_dot = 5.6e37\n",
    "char_age = 5585\n",
    "# from spin-down power\n",
    "E_tot = e_dot * char_age * yr_to_sec\n",
    "#from gamma-ray luminosity:\n",
    "#E_tot = fp_pwn.GetParticleEnergyContent()\n",
    "##E_tot = 4.903011306570967e+48\n",
    "eccentricity = 0.705\n",
    "distance = 6.2e3 #pc\n",
    "\n",
    "#fit-parameters\n",
    "sigma_y = 0.603\n",
    "sigma_x = sigma_y * np.sqrt(1-eccentricity**2)\n",
    "x_0 = 273.40\n",
    "y_0 = -17.382"
   ]
  },
  {
   "cell_type": "code",
   "execution_count": 17,
   "id": "66038f2f",
   "metadata": {},
   "outputs": [],
   "source": [
    "# 1 sigma position: \n",
    "x = x_0 - sigma_x *np.sin(np.deg2rad(210.7))\n",
    "y = y_0 - sigma_y *np.cos(np.deg2rad(210.7))"
   ]
  },
  {
   "cell_type": "code",
   "execution_count": 18,
   "id": "5bd3c7c8",
   "metadata": {},
   "outputs": [],
   "source": [
    "e_dens = []\n",
    "distance_from_center = np.arange(0, 4.1, 0.1) # in degree\n",
    "for i in distance_from_center:\n",
    "    #compute the total energy contained in the given radius\n",
    "    distance_x = sigma_x *i\n",
    "    distance_y = sigma_y *i\n",
    "    x = x_0 - distance_x *np.sin(np.deg2rad(210.7))\n",
    "    y = y_0 - distance_y *np.cos(np.deg2rad(210.7))\n",
    "\n",
    "    E_tot_r = gaussian_energy_density(E_tot, sigma_x, sigma_y, x_0, y_0, x, y)\n",
    "    \n",
    "    #compute the volume contained by these coordinates:\n",
    "    yr_to_sec = 3.154e7\n",
    "    pc_to_cm = 3.086e18\n",
    "    erg_to_eV = 6.242e11\n",
    "    proj_size = np.deg2rad(sigma_x) * distance \n",
    "    proj_size_minor = np.deg2rad(sigma_y) * distance \n",
    "    \n",
    "    volume = 4/3 * np.pi * np.power(proj_size_minor * pc_to_cm,2) * (proj_size * pc_to_cm)\n",
    "    \n",
    "    #energy density in this region:\n",
    "    edens = E_tot_r/volume * erg_to_eV\n",
    "    e_dens.append(edens)"
   ]
  },
  {
   "cell_type": "code",
   "execution_count": 19,
   "id": "990f6f00",
   "metadata": {},
   "outputs": [],
   "source": [
    "def func(x, a, b, c):\n",
    "    return a * np.exp(-b * x) + c"
   ]
  },
  {
   "cell_type": "code",
   "execution_count": 20,
   "id": "8b96ec09",
   "metadata": {},
   "outputs": [
    {
     "data": {
      "image/png": "[encoded data removed]",
      "text/plain": [
       "<Figure size 432x288 with 1 Axes>"
      ]
     },
     "metadata": {
      "needs_background": "light"
     },
     "output_type": "display_data"
    }
   ],
   "source": [
    "from scipy.optimize import curve_fit\n",
    "\n",
    "popt, pcov = curve_fit(func, distance_from_center, e_dens)\n",
    "\n",
    "x = np.linspace(0,10, 10000)\n",
    "plt.scatter(distance_from_center, e_dens , label=\"computed energy density\", color='darkred')\n",
    "plt.plot(x, func(x, *popt), '--',color='black', label=\"Fitted Curve\")\n",
    "plt.xlabel('distance from center in [sigma]')\n",
    "plt.ylabel('energy density in [eV/cm3]')\n",
    "plt.xlim(-0.1,4.2)\n",
    "plt.legend()\n",
    "plt.show()"
   ]
  },
  {
   "cell_type": "code",
   "execution_count": 30,
   "id": "94a1aa26",
   "metadata": {},
   "outputs": [
    {
     "name": "stdout",
     "output_type": "stream",
     "text": [
      "Energy density within 2 sigma interval: 0.02356666361314662\n"
     ]
    },
    {
     "data": {
      "image/png": "[encoded data removed]",
      "text/plain": [
       "<Figure size 432x288 with 1 Axes>"
      ]
     },
     "metadata": {
      "needs_background": "light"
     },
     "output_type": "display_data"
    }
   ],
   "source": [
    "#general case:\n",
    "sigma = 2\n",
    "\n",
    "from scipy.integrate import quad\n",
    "I = quad(func, sigma-1, sigma, args=(popt[0], popt[1], popt[2]))[0]\n",
    "print('Energy density within', sigma, 'sigma interval:', I)\n",
    "\n",
    "plt.scatter(distance_from_center, e_dens , label=\"computed energy density\", color='darkred')\n",
    "plt.fill_between(distance_from_center, e_dens, color='darkred', alpha=0.3, where = (distance_from_center> sigma-1.1) & (distance_from_center<sigma+0.1) )\n",
    "plt.plot(x, func(x, *popt), '--',color='black', label=\"Fitted Curve\")\n",
    "plt.xlabel('distance from center in [sigma]')\n",
    "plt.ylabel('energy density in [eV/cm3]')\n",
    "plt.xlim(-0.1,4.2)\n",
    "plt.legend()\n",
    "plt.show()"
   ]
  },
  {
   "cell_type": "code",
   "execution_count": null,
   "id": "38e822a1",
   "metadata": {},
   "outputs": [],
   "source": []
  }
 ],
 "metadata": {
  "kernelspec": {
   "display_name": "Python 3 (ipykernel)",
   "language": "python",
   "name": "python3"
  },
  "language_info": {
   "codemirror_mode": {
    "name": "ipython",
    "version": 3
   },
   "file_extension": ".py",
   "mimetype": "text/x-python",
   "name": "python",
   "nbconvert_exporter": "python",
   "pygments_lexer": "ipython3",
   "version": "3.8.13"
  }
 },
 "nbformat": 4,
 "nbformat_minor": 5
}
