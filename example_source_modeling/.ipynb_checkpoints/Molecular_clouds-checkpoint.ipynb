{
 "cells": [
  {
   "cell_type": "code",
   "execution_count": 1,
   "id": "bfb2ac0c",
   "metadata": {},
   "outputs": [],
   "source": [
    "import matplotlib.pyplot as plt\n",
    "import numpy as np\n",
    "from astropy.visualization import astropy_mpl_style\n",
    "plt.style.use(astropy_mpl_style)\n",
    "from pathlib import Path"
   ]
  },
  {
   "cell_type": "code",
   "execution_count": 2,
   "id": "dcdfaee7",
   "metadata": {},
   "outputs": [
    {
     "ename": "FileNotFoundError",
     "evalue": "[Errno 2] No such file or directory: '/home/woody/caph/mppi103h/PSR_J1813-1749/Molecular_clouds/MML17_cloud_catalog_v3.fits'",
     "output_type": "error",
     "traceback": [
      "\u001b[0;31m---------------------------------------------------------------------------\u001b[0m",
      "\u001b[0;31mFileNotFoundError\u001b[0m                         Traceback (most recent call last)",
      "Cell \u001b[0;32mIn [2], line 6\u001b[0m\n\u001b[1;32m      3\u001b[0m \u001b[38;5;28;01mimport\u001b[39;00m \u001b[38;5;21;01mastropy\u001b[39;00m\n\u001b[1;32m      4\u001b[0m path \u001b[38;5;241m=\u001b[39m \u001b[38;5;124m'\u001b[39m\u001b[38;5;124m/home/woody/caph/mppi103h/PSR_J1813-1749/Molecular_clouds\u001b[39m\u001b[38;5;124m'\u001b[39m\n\u001b[0;32m----> 6\u001b[0m hdul \u001b[38;5;241m=\u001b[39m \u001b[43mastropy\u001b[49m\u001b[38;5;241;43m.\u001b[39;49m\u001b[43mio\u001b[49m\u001b[38;5;241;43m.\u001b[39;49m\u001b[43mfits\u001b[49m\u001b[38;5;241;43m.\u001b[39;49m\u001b[43mopen\u001b[49m\u001b[43m(\u001b[49m\u001b[38;5;124;43m'\u001b[39;49m\u001b[38;5;132;43;01m{}\u001b[39;49;00m\u001b[38;5;124;43m/MML17_cloud_catalog_v3.fits\u001b[39;49m\u001b[38;5;124;43m'\u001b[39;49m\u001b[38;5;241;43m.\u001b[39;49m\u001b[43mformat\u001b[49m\u001b[43m(\u001b[49m\u001b[43mpath\u001b[49m\u001b[43m)\u001b[49m\u001b[43m)\u001b[49m\n",
      "File \u001b[0;32m/lfs/l7/hess/users/twach/software/anaconda3/envs/gamera/lib/python3.8/site-packages/astropy/io/fits/hdu/hdulist.py:175\u001b[0m, in \u001b[0;36mfitsopen\u001b[0;34m(name, mode, memmap, save_backup, cache, lazy_load_hdus, ignore_missing_simple, **kwargs)\u001b[0m\n\u001b[1;32m    172\u001b[0m \u001b[38;5;28;01mif\u001b[39;00m \u001b[38;5;129;01mnot\u001b[39;00m name:\n\u001b[1;32m    173\u001b[0m     \u001b[38;5;28;01mraise\u001b[39;00m \u001b[38;5;167;01mValueError\u001b[39;00m(\u001b[38;5;124mf\u001b[39m\u001b[38;5;124m'\u001b[39m\u001b[38;5;124mEmpty filename: \u001b[39m\u001b[38;5;132;01m{\u001b[39;00mname\u001b[38;5;132;01m!r}\u001b[39;00m\u001b[38;5;124m'\u001b[39m)\n\u001b[0;32m--> 175\u001b[0m \u001b[38;5;28;01mreturn\u001b[39;00m \u001b[43mHDUList\u001b[49m\u001b[38;5;241;43m.\u001b[39;49m\u001b[43mfromfile\u001b[49m\u001b[43m(\u001b[49m\u001b[43mname\u001b[49m\u001b[43m,\u001b[49m\u001b[43m \u001b[49m\u001b[43mmode\u001b[49m\u001b[43m,\u001b[49m\u001b[43m \u001b[49m\u001b[43mmemmap\u001b[49m\u001b[43m,\u001b[49m\u001b[43m \u001b[49m\u001b[43msave_backup\u001b[49m\u001b[43m,\u001b[49m\u001b[43m \u001b[49m\u001b[43mcache\u001b[49m\u001b[43m,\u001b[49m\n\u001b[1;32m    176\u001b[0m \u001b[43m                        \u001b[49m\u001b[43mlazy_load_hdus\u001b[49m\u001b[43m,\u001b[49m\u001b[43m \u001b[49m\u001b[43mignore_missing_simple\u001b[49m\u001b[43m,\u001b[49m\u001b[43m \u001b[49m\u001b[38;5;241;43m*\u001b[39;49m\u001b[38;5;241;43m*\u001b[39;49m\u001b[43mkwargs\u001b[49m\u001b[43m)\u001b[49m\n",
      "File \u001b[0;32m/lfs/l7/hess/users/twach/software/anaconda3/envs/gamera/lib/python3.8/site-packages/astropy/io/fits/hdu/hdulist.py:410\u001b[0m, in \u001b[0;36mHDUList.fromfile\u001b[0;34m(cls, fileobj, mode, memmap, save_backup, cache, lazy_load_hdus, ignore_missing_simple, **kwargs)\u001b[0m\n\u001b[1;32m    398\u001b[0m \u001b[38;5;129m@classmethod\u001b[39m\n\u001b[1;32m    399\u001b[0m \u001b[38;5;28;01mdef\u001b[39;00m \u001b[38;5;21mfromfile\u001b[39m(\u001b[38;5;28mcls\u001b[39m, fileobj, mode\u001b[38;5;241m=\u001b[39m\u001b[38;5;28;01mNone\u001b[39;00m, memmap\u001b[38;5;241m=\u001b[39m\u001b[38;5;28;01mNone\u001b[39;00m,\n\u001b[1;32m    400\u001b[0m              save_backup\u001b[38;5;241m=\u001b[39m\u001b[38;5;28;01mFalse\u001b[39;00m, cache\u001b[38;5;241m=\u001b[39m\u001b[38;5;28;01mTrue\u001b[39;00m, lazy_load_hdus\u001b[38;5;241m=\u001b[39m\u001b[38;5;28;01mTrue\u001b[39;00m,\n\u001b[1;32m    401\u001b[0m              ignore_missing_simple\u001b[38;5;241m=\u001b[39m\u001b[38;5;28;01mFalse\u001b[39;00m, \u001b[38;5;241m*\u001b[39m\u001b[38;5;241m*\u001b[39mkwargs):\n\u001b[1;32m    402\u001b[0m     \u001b[38;5;124;03m\"\"\"\u001b[39;00m\n\u001b[1;32m    403\u001b[0m \u001b[38;5;124;03m    Creates an `HDUList` instance from a file-like object.\u001b[39;00m\n\u001b[1;32m    404\u001b[0m \n\u001b[0;32m   (...)\u001b[0m\n\u001b[1;32m    407\u001b[0m \u001b[38;5;124;03m    documentation for details of the parameters accepted by this method).\u001b[39;00m\n\u001b[1;32m    408\u001b[0m \u001b[38;5;124;03m    \"\"\"\u001b[39;00m\n\u001b[0;32m--> 410\u001b[0m     \u001b[38;5;28;01mreturn\u001b[39;00m \u001b[38;5;28;43mcls\u001b[39;49m\u001b[38;5;241;43m.\u001b[39;49m\u001b[43m_readfrom\u001b[49m\u001b[43m(\u001b[49m\u001b[43mfileobj\u001b[49m\u001b[38;5;241;43m=\u001b[39;49m\u001b[43mfileobj\u001b[49m\u001b[43m,\u001b[49m\u001b[43m \u001b[49m\u001b[43mmode\u001b[49m\u001b[38;5;241;43m=\u001b[39;49m\u001b[43mmode\u001b[49m\u001b[43m,\u001b[49m\u001b[43m \u001b[49m\u001b[43mmemmap\u001b[49m\u001b[38;5;241;43m=\u001b[39;49m\u001b[43mmemmap\u001b[49m\u001b[43m,\u001b[49m\n\u001b[1;32m    411\u001b[0m \u001b[43m                         \u001b[49m\u001b[43msave_backup\u001b[49m\u001b[38;5;241;43m=\u001b[39;49m\u001b[43msave_backup\u001b[49m\u001b[43m,\u001b[49m\u001b[43m \u001b[49m\u001b[43mcache\u001b[49m\u001b[38;5;241;43m=\u001b[39;49m\u001b[43mcache\u001b[49m\u001b[43m,\u001b[49m\n\u001b[1;32m    412\u001b[0m \u001b[43m                         \u001b[49m\u001b[43mignore_missing_simple\u001b[49m\u001b[38;5;241;43m=\u001b[39;49m\u001b[43mignore_missing_simple\u001b[49m\u001b[43m,\u001b[49m\n\u001b[1;32m    413\u001b[0m \u001b[43m                         \u001b[49m\u001b[43mlazy_load_hdus\u001b[49m\u001b[38;5;241;43m=\u001b[39;49m\u001b[43mlazy_load_hdus\u001b[49m\u001b[43m,\u001b[49m\u001b[43m \u001b[49m\u001b[38;5;241;43m*\u001b[39;49m\u001b[38;5;241;43m*\u001b[39;49m\u001b[43mkwargs\u001b[49m\u001b[43m)\u001b[49m\n",
      "File \u001b[0;32m/lfs/l7/hess/users/twach/software/anaconda3/envs/gamera/lib/python3.8/site-packages/astropy/io/fits/hdu/hdulist.py:1060\u001b[0m, in \u001b[0;36mHDUList._readfrom\u001b[0;34m(cls, fileobj, data, mode, memmap, cache, lazy_load_hdus, ignore_missing_simple, **kwargs)\u001b[0m\n\u001b[1;32m   1057\u001b[0m \u001b[38;5;28;01mif\u001b[39;00m fileobj \u001b[38;5;129;01mis\u001b[39;00m \u001b[38;5;129;01mnot\u001b[39;00m \u001b[38;5;28;01mNone\u001b[39;00m:\n\u001b[1;32m   1058\u001b[0m     \u001b[38;5;28;01mif\u001b[39;00m \u001b[38;5;129;01mnot\u001b[39;00m \u001b[38;5;28misinstance\u001b[39m(fileobj, _File):\n\u001b[1;32m   1059\u001b[0m         \u001b[38;5;66;03m# instantiate a FITS file object (ffo)\u001b[39;00m\n\u001b[0;32m-> 1060\u001b[0m         fileobj \u001b[38;5;241m=\u001b[39m \u001b[43m_File\u001b[49m\u001b[43m(\u001b[49m\u001b[43mfileobj\u001b[49m\u001b[43m,\u001b[49m\u001b[43m \u001b[49m\u001b[43mmode\u001b[49m\u001b[38;5;241;43m=\u001b[39;49m\u001b[43mmode\u001b[49m\u001b[43m,\u001b[49m\u001b[43m \u001b[49m\u001b[43mmemmap\u001b[49m\u001b[38;5;241;43m=\u001b[39;49m\u001b[43mmemmap\u001b[49m\u001b[43m,\u001b[49m\u001b[43m \u001b[49m\u001b[43mcache\u001b[49m\u001b[38;5;241;43m=\u001b[39;49m\u001b[43mcache\u001b[49m\u001b[43m)\u001b[49m\n\u001b[1;32m   1061\u001b[0m     \u001b[38;5;66;03m# The Astropy mode is determined by the _File initializer if the\u001b[39;00m\n\u001b[1;32m   1062\u001b[0m     \u001b[38;5;66;03m# supplied mode was None\u001b[39;00m\n\u001b[1;32m   1063\u001b[0m     mode \u001b[38;5;241m=\u001b[39m fileobj\u001b[38;5;241m.\u001b[39mmode\n",
      "File \u001b[0;32m/lfs/l7/hess/users/twach/software/anaconda3/envs/gamera/lib/python3.8/site-packages/astropy/io/fits/file.py:170\u001b[0m, in \u001b[0;36m_File.__init__\u001b[0;34m(self, fileobj, mode, memmap, overwrite, cache)\u001b[0m\n\u001b[1;32m    168\u001b[0m     \u001b[38;5;28mself\u001b[39m\u001b[38;5;241m.\u001b[39m_open_fileobj(fileobj, mode, overwrite)\n\u001b[1;32m    169\u001b[0m \u001b[38;5;28;01melif\u001b[39;00m \u001b[38;5;28misinstance\u001b[39m(fileobj, (\u001b[38;5;28mstr\u001b[39m, \u001b[38;5;28mbytes\u001b[39m)):\n\u001b[0;32m--> 170\u001b[0m     \u001b[38;5;28;43mself\u001b[39;49m\u001b[38;5;241;43m.\u001b[39;49m\u001b[43m_open_filename\u001b[49m\u001b[43m(\u001b[49m\u001b[43mfileobj\u001b[49m\u001b[43m,\u001b[49m\u001b[43m \u001b[49m\u001b[43mmode\u001b[49m\u001b[43m,\u001b[49m\u001b[43m \u001b[49m\u001b[43moverwrite\u001b[49m\u001b[43m)\u001b[49m\n\u001b[1;32m    171\u001b[0m \u001b[38;5;28;01melse\u001b[39;00m:\n\u001b[1;32m    172\u001b[0m     \u001b[38;5;28mself\u001b[39m\u001b[38;5;241m.\u001b[39m_open_filelike(fileobj, mode, overwrite)\n",
      "File \u001b[0;32m/lfs/l7/hess/users/twach/software/anaconda3/envs/gamera/lib/python3.8/site-packages/astropy/io/fits/file.py:562\u001b[0m, in \u001b[0;36m_File._open_filename\u001b[0;34m(self, filename, mode, overwrite)\u001b[0m\n\u001b[1;32m    559\u001b[0m ext \u001b[38;5;241m=\u001b[39m os\u001b[38;5;241m.\u001b[39mpath\u001b[38;5;241m.\u001b[39msplitext(\u001b[38;5;28mself\u001b[39m\u001b[38;5;241m.\u001b[39mname)[\u001b[38;5;241m1\u001b[39m]\n\u001b[1;32m    561\u001b[0m \u001b[38;5;28;01mif\u001b[39;00m \u001b[38;5;129;01mnot\u001b[39;00m \u001b[38;5;28mself\u001b[39m\u001b[38;5;241m.\u001b[39m_try_read_compressed(\u001b[38;5;28mself\u001b[39m\u001b[38;5;241m.\u001b[39mname, magic, mode, ext\u001b[38;5;241m=\u001b[39mext):\n\u001b[0;32m--> 562\u001b[0m     \u001b[38;5;28mself\u001b[39m\u001b[38;5;241m.\u001b[39m_file \u001b[38;5;241m=\u001b[39m \u001b[38;5;28;43mopen\u001b[39;49m\u001b[43m(\u001b[49m\u001b[38;5;28;43mself\u001b[39;49m\u001b[38;5;241;43m.\u001b[39;49m\u001b[43mname\u001b[49m\u001b[43m,\u001b[49m\u001b[43m \u001b[49m\u001b[43mIO_FITS_MODES\u001b[49m\u001b[43m[\u001b[49m\u001b[43mmode\u001b[49m\u001b[43m]\u001b[49m\u001b[43m)\u001b[49m\n\u001b[1;32m    563\u001b[0m     \u001b[38;5;28mself\u001b[39m\u001b[38;5;241m.\u001b[39mclose_on_error \u001b[38;5;241m=\u001b[39m \u001b[38;5;28;01mTrue\u001b[39;00m\n\u001b[1;32m    565\u001b[0m \u001b[38;5;66;03m# Make certain we're back at the beginning of the file\u001b[39;00m\n\u001b[1;32m    566\u001b[0m \u001b[38;5;66;03m# BZ2File does not support seek when the file is open for writing, but\u001b[39;00m\n\u001b[1;32m    567\u001b[0m \u001b[38;5;66;03m# when opening a file for write, bz2.BZ2File always truncates anyway.\u001b[39;00m\n",
      "\u001b[0;31mFileNotFoundError\u001b[0m: [Errno 2] No such file or directory: '/home/woody/caph/mppi103h/PSR_J1813-1749/Molecular_clouds/MML17_cloud_catalog_v3.fits'"
     ]
    }
   ],
   "source": [
    "from astropy.utils.data import get_pkg_data_filename\n",
    "from astropy.io import fits\n",
    "import astropy\n",
    "path = '/home/woody/caph/mppi103h/PSR_J1813-1749/Molecular_clouds'\n",
    "\n",
    "hdul = astropy.io.fits.open('{}/MML17_cloud_catalog_v3.fits'.format(path))"
   ]
  },
  {
   "cell_type": "code",
   "execution_count": null,
   "id": "b731f268",
   "metadata": {},
   "outputs": [],
   "source": [
    "plotDir = '/home/woody/caph/mppi103h/PSR_J1813-1749/Modeling'\n",
    "# save the figure in the plotDir under a name I give and in a format I decide upon\n",
    "def save(fig, filename):#, left=0.15, bottom=0.15, top=0.95, right=0.95):\n",
    "    savedir = '{}'.format(plotDir)\n",
    "    #fig.subplots_adjust(left=left, bottom=bottom, top=top, right=right)\n",
    "    for form in ['png', 'pdf']:\n",
    "        fig.savefig('{}/{}.{}'.format(plotDir, filename, form),dpi=150, bbox_inches = \"tight\")"
   ]
  },
  {
   "cell_type": "code",
   "execution_count": null,
   "id": "27eeb493",
   "metadata": {},
   "outputs": [],
   "source": [
    "data = hdul[1].data\n",
    "hdr = hdul[1].header "
   ]
  },
  {
   "cell_type": "code",
   "execution_count": null,
   "id": "8a08f665",
   "metadata": {},
   "outputs": [],
   "source": [
    "from astropy import units as u\n",
    "from astropy.coordinates import SkyCoord\n",
    "SkyCoord(273.40, -17.626, frame='icrs', unit='deg').galactic"
   ]
  },
  {
   "cell_type": "code",
   "execution_count": null,
   "id": "240d17c4",
   "metadata": {},
   "outputs": [],
   "source": [
    "latitude_all = []\n",
    "longitude_all = []\n",
    "extension_all = []\n",
    "index_all =[]\n",
    "for i in range(0,len(data)):\n",
    "    if data[i][4] >= 12.7 and data[i][4] <= 13.3:\n",
    "        latitude_all.append(data[i][4])\n",
    "        longitude_all.append(data[i][6])\n",
    "        extension_all.append(data[i][3])\n",
    "        index_all.append(i)\n",
    "        pos = SkyCoord(data[i][4], data[i][6], frame='galactic', unit='deg').icrs\n",
    "        print('cloud number', i, 'at position', 'with radius', data[i][3], 'at distance', data[i][18])"
   ]
  },
  {
   "cell_type": "code",
   "execution_count": null,
   "id": "8e7257be",
   "metadata": {},
   "outputs": [],
   "source": [
    "from gammapy.datasets import Datasets, MapDataset\n",
    "import numpy as np\n",
    "from astropy.convolution import convolve\n",
    "from astropy.convolution.kernels import Gaussian2DKernel\n",
    "from regions import CircleSkyRegion, EllipseSkyRegion"
   ]
  },
  {
   "cell_type": "code",
   "execution_count": null,
   "id": "a38b56e2",
   "metadata": {},
   "outputs": [],
   "source": [
    "outputBase = '/home/woody/caph/mppi103h/PSR_J1813-1749/HESS/dataset'\n",
    "dataset_001 = MapDataset.read('{}/dataset-stacked_25bins.fits.gz'.format(outputBase), \n",
    "                              name='J1813-178-stacked')"
   ]
  },
  {
   "cell_type": "code",
   "execution_count": null,
   "id": "2513749a",
   "metadata": {},
   "outputs": [],
   "source": [
    "gamma_data = np.squeeze(dataset_001.counts.sum_over_axes().data, axis=(0,))\n",
    "smoothed_gamma_data = convolve(gamma_data, Gaussian2DKernel(2))"
   ]
  },
  {
   "cell_type": "code",
   "execution_count": null,
   "id": "d2b32124",
   "metadata": {},
   "outputs": [],
   "source": [
    "fig = plt.figure()\n",
    "ax = fig.add_axes([0.1, 0.1, 0.8, 0.8], \n",
    "                  projection=dataset_001.counts.geom.wcs)\n",
    "ax.set_ylabel('Galactic Latitude')\n",
    "ax.set_xlabel('Galactic Longitude')\n",
    "ax.imshow(gamma_data, vmin=0, vmax=10, cmap='gist_heat',origin='lower')\n",
    "ra = ax.coords[0]\n",
    "dec = ax.coords[1]"
   ]
  },
  {
   "cell_type": "code",
   "execution_count": null,
   "id": "2d4e0adf",
   "metadata": {},
   "outputs": [],
   "source": [
    "test = CircleSkyRegion(center=SkyCoord(12.81590469 * u.deg, -0.02389758 * u.deg, frame='galactic').transform_to('icrs'), radius=0.06646 * u.deg).to_pixel(dataset_001.counts.geom.wcs)\n",
    "width = 2*0.78803*np.sqrt(1-0.79522**2)*u.deg\n",
    "height = 2*0.78803*u.deg\n",
    "center=SkyCoord(273.67 * u.deg, -17.299 * u.deg)\n",
    "ellipse = EllipseSkyRegion(center, width, height, 224.80*u.deg).to_pixel(dataset_001.counts.geom.wcs)"
   ]
  },
  {
   "cell_type": "code",
   "execution_count": null,
   "id": "29858fd7",
   "metadata": {},
   "outputs": [],
   "source": [
    "width2 = 2*0.38286*np.sqrt(1-0.72626**2)*u.deg\n",
    "height2 = 2*0.38286*u.deg\n",
    "center2=SkyCoord(273.43 * u.deg, -17.678 * u.deg)\n",
    "ellipse_fermi = EllipseSkyRegion(center2, width2, height2, 220.98*u.deg).to_pixel(dataset_001.counts.geom.wcs)"
   ]
  },
  {
   "cell_type": "code",
   "execution_count": null,
   "id": "69cf4c3f",
   "metadata": {},
   "outputs": [],
   "source": [
    "fig = plt.figure( dpi=150)\n",
    "ax = fig.add_axes([0.1, 0.1, 0.8, 0.8], \n",
    "                  projection=dataset_001.counts.geom.wcs)\n",
    "\n",
    "ax.imshow(smoothed_gamma_data, vmin=0, vmax=10, origin='lower')\n",
    "test.plot(ax =ax, edgecolor='pink', linewidth=2, facecolor='None')\n",
    "ellipse.plot(ax =ax, edgecolor='pink', linewidth=2, facecolor='None')\n",
    "ellipse_fermi.plot(ax =ax, edgecolor='green', linewidth=2, facecolor='None')"
   ]
  },
  {
   "cell_type": "code",
   "execution_count": null,
   "id": "c69f97cc",
   "metadata": {},
   "outputs": [],
   "source": [
    "fig = plt.figure( dpi=100)\n",
    "ax = fig.add_axes([0.1, 0.1, 0.8, 0.8], \n",
    "                  projection=dataset_001.counts.geom.wcs)\n",
    "\n",
    "ax.imshow(smoothed_gamma_data, vmin=0, vmax=10, origin='lower')\n",
    "ellipse_fermi.plot(ax =ax, edgecolor='green', linewidth=2, facecolor='None')\n",
    "for i in range(0, len(latitude_all)):\n",
    "    cloud = CircleSkyRegion(center=SkyCoord(latitude_all[i] * u.deg, longitude_all[i] * u.deg, frame='galactic').transform_to('icrs'), radius=extension_all[i] * u.deg).to_pixel(dataset_001.counts.geom.wcs)\n",
    "    cloud.plot(ax =ax, edgecolor='blue', linewidth=2)"
   ]
  },
  {
   "cell_type": "code",
   "execution_count": null,
   "id": "583d03a4",
   "metadata": {},
   "outputs": [],
   "source": [
    "latitude = []\n",
    "longitude = []\n",
    "extension = []\n",
    "index_clouds =[0,1,2,4,5,10,16,17,18,19,20]\n",
    "index = []\n",
    "\n",
    "for i in index_clouds:\n",
    "    latitude.append(latitude_all[i])\n",
    "    longitude.append(longitude_all[i])\n",
    "    extension.append(extension_all[i])\n",
    "    index.append(index_all[i])"
   ]
  },
  {
   "cell_type": "code",
   "execution_count": null,
   "id": "7a66fa31",
   "metadata": {},
   "outputs": [],
   "source": [
    "fig = plt.figure( dpi=100)\n",
    "ax = fig.add_axes([0.1, 0.1, 0.8, 0.8], \n",
    "                  projection=dataset_001.counts.geom.wcs)\n",
    "\n",
    "ax.imshow(smoothed_gamma_data, vmin=0, vmax=10, origin='lower')\n",
    "ellipse_fermi.plot(ax =ax, edgecolor='green', linewidth=2, facecolor='None')\n",
    "for i in range(0, len(latitude)):\n",
    "    cloud = CircleSkyRegion(center=SkyCoord(latitude[i] * u.deg, longitude[i] * u.deg, frame='galactic').transform_to('icrs'), radius=extension[i] * u.deg).to_pixel(dataset_001.counts.geom.wcs)\n",
    "    cloud.plot(ax =ax, edgecolor='blue', linewidth=2)"
   ]
  },
  {
   "cell_type": "code",
   "execution_count": null,
   "id": "a2c7449c",
   "metadata": {},
   "outputs": [],
   "source": [
    "for i in index:\n",
    "    print('molecular cloud at distance of', data[i][18])"
   ]
  },
  {
   "cell_type": "markdown",
   "id": "0dd8d86a",
   "metadata": {},
   "source": [
    "# Molecular clouds from Rice et al:"
   ]
  },
  {
   "cell_type": "code",
   "execution_count": null,
   "id": "eda46025",
   "metadata": {},
   "outputs": [],
   "source": [
    "clouds_rice_txt = np.genfromtxt('/home/woody/caph/mppi103h/PSR_J1813-1749/Modeling/J1813_clouds_Rice.txt', dtype='str')"
   ]
  },
  {
   "cell_type": "code",
   "execution_count": null,
   "id": "aa1a0482",
   "metadata": {},
   "outputs": [],
   "source": [
    "# column 1 is Glon in deg\n",
    "# column 3 is Glat in deg\n",
    "# column 6 is distance in kpc\n",
    "# column 8 is number density in 1/cm3\n",
    "# column 14 is radius in pc"
   ]
  },
  {
   "cell_type": "code",
   "execution_count": null,
   "id": "a96d2fd9",
   "metadata": {},
   "outputs": [],
   "source": [
    "def angular_extension(d, D):\n",
    "    delta = 2*np.arctan(np.divide(d, 2*D))   #calculate angular extension at given distance\n",
    "    delta_deg = np.degrees(delta)  #transform to degrees\n",
    "    return delta_deg"
   ]
  },
  {
   "cell_type": "code",
   "execution_count": null,
   "id": "a5853d80",
   "metadata": {
    "scrolled": true
   },
   "outputs": [],
   "source": [
    "clouds_rice = []\n",
    "for i in range(0, len(clouds_rice_txt)):\n",
    "    coords = SkyCoord(float(clouds_rice_txt[i][1]), float(clouds_rice_txt[i][3]), frame='galactic', unit='deg').icrs\n",
    "    ra = coords.ra.value\n",
    "    dec = coords.dec.value\n",
    "    distance = float(clouds_rice_txt[i][6])\n",
    "    radius = angular_extension(d =float(clouds_rice_txt[i][14]), D=distance*10**3)\n",
    "    clouds_rice.append([coords, distance, radius])"
   ]
  },
  {
   "cell_type": "code",
   "execution_count": null,
   "id": "3dba7efc",
   "metadata": {},
   "outputs": [],
   "source": [
    "fig = plt.figure( dpi=100)\n",
    "ax = fig.add_axes([0.1, 0.1, 0.8, 0.8], \n",
    "                  projection=dataset_001.counts.geom.wcs)\n",
    "\n",
    "ax.imshow(smoothed_gamma_data, vmin=0, vmax=10, origin='lower')\n",
    "ellipse_fermi.plot(ax =ax, edgecolor='green', linewidth=2, facecolor='None')\n",
    "for i in range(0, len(clouds_rice)):\n",
    "    cloud = CircleSkyRegion(center=clouds_rice[i][0], radius=clouds_rice[i][2] * u.deg).to_pixel(dataset_001.counts.geom.wcs)\n",
    "    cloud.plot(ax =ax, edgecolor='blue', linewidth=2)"
   ]
  },
  {
   "cell_type": "markdown",
   "id": "246893b6",
   "metadata": {},
   "source": [
    "# Molecular clouds from MD et al:"
   ]
  },
  {
   "cell_type": "code",
   "execution_count": null,
   "id": "111c71d5",
   "metadata": {},
   "outputs": [],
   "source": [
    "clouds_md_txt = np.genfromtxt('/home/woody/caph/mppi103h/PSR_J1813-1749/Modeling/J1813_clouds_MD2017.txt', dtype='str')"
   ]
  },
  {
   "cell_type": "code",
   "execution_count": null,
   "id": "42d92e22",
   "metadata": {},
   "outputs": [],
   "source": [
    "coords = SkyCoord(float(clouds_md_txt[8][1]), float(clouds_md_txt[8][2]), frame='galactic', unit='deg').icrs\n",
    "ra = coords.ra.value\n",
    "dec = coords.dec.value\n",
    "distance = float(clouds_md_txt[8][4])\n",
    "radius = angular_extension(d =float(clouds_md_txt[8][12]), D=distance*10**3)\n",
    "particle_denisty = float(clouds_md_txt[8][6])"
   ]
  },
  {
   "cell_type": "code",
   "execution_count": null,
   "id": "b5f81e31",
   "metadata": {},
   "outputs": [],
   "source": [
    "clouds_md = []\n",
    "for i in range(0, len(clouds_md_txt)):\n",
    "    coords = SkyCoord(float(clouds_md_txt[i][1]), float(clouds_md_txt[i][2]), frame='galactic', unit='deg').icrs\n",
    "    ra = coords.ra.value\n",
    "    dec = coords.dec.value\n",
    "    distance = float(clouds_md_txt[i][4])\n",
    "    radius = angular_extension(d =float(clouds_md_txt[i][12]), D=distance*10**3)\n",
    "    particle_denisty = float(clouds_md_txt[i][6])\n",
    "    if radius > 0.3 and distance <= 12 and distance > 6and dec > -18.5 and dec < -17 and ra < 274.0 and ra > 273.0:\n",
    "        clouds_md.append([coords,distance, radius, particle_denisty])"
   ]
  },
  {
   "cell_type": "code",
   "execution_count": null,
   "id": "2446b3d1",
   "metadata": {},
   "outputs": [],
   "source": [
    "fig = plt.figure( dpi=100)\n",
    "ax = fig.add_axes([0.1, 0.1, 0.8, 0.8], \n",
    "                  projection=dataset_001.counts.geom.wcs)\n",
    "\n",
    "ax.imshow(smoothed_gamma_data, vmin=0, vmax=10, origin='lower')\n",
    "ellipse_fermi.plot(ax =ax, edgecolor='green', linewidth=2, facecolor='None')\n",
    "for i in range(0, len(clouds_md)):\n",
    "    cloud = CircleSkyRegion(center=clouds_md[i][0], radius=clouds_md[i][2] * u.deg).to_pixel(dataset_001.counts.geom.wcs)\n",
    "    cloud.plot(ax =ax, edgecolor='blue', linewidth=2)"
   ]
  },
  {
   "cell_type": "code",
   "execution_count": null,
   "id": "a9b46cb2",
   "metadata": {},
   "outputs": [],
   "source": [
    "for i in range(0, len(clouds_md)):\n",
    "    print('Cloud number', i, 'has a distance of', clouds_md[i][1], 'and a number density of', clouds_md[i][3], clouds_md[i][2])"
   ]
  },
  {
   "cell_type": "code",
   "execution_count": null,
   "id": "5d2863a6",
   "metadata": {},
   "outputs": [],
   "source": [
    "clouds_md_denisty = []\n",
    "for i in range(0, len(clouds_md_txt)):\n",
    "    coords = SkyCoord(float(clouds_md_txt[i][1]), float(clouds_md_txt[i][2]), frame='galactic', unit='deg').icrs\n",
    "    ra = coords.ra.value\n",
    "    dec = coords.dec.value\n",
    "    distance = float(clouds_md_txt[i][4])\n",
    "    radius = angular_extension(d =float(clouds_md_txt[i][12]), D=distance*10**3)\n",
    "    particle_denisty = float(clouds_md_txt[i][6])\n",
    "    if radius > 0.1 and distance <= 14 and distance > 4 and dec > -18.5 and dec < -17 and ra < 274.0 and ra > 273.0 and particle_denisty > 20:\n",
    "        clouds_md_denisty.append([coords,distance, radius, particle_denisty, i])"
   ]
  },
  {
   "cell_type": "code",
   "execution_count": null,
   "id": "f6d7275a",
   "metadata": {},
   "outputs": [],
   "source": [
    "fig = plt.figure( dpi=100)\n",
    "ax = fig.add_axes([0.1, 0.1, 0.8, 0.8], \n",
    "                  projection=dataset_001.counts.geom.wcs)\n",
    "\n",
    "ax.imshow(smoothed_gamma_data, vmin=0, vmax=10, origin='lower')\n",
    "ellipse_fermi.plot(ax =ax, edgecolor='green', linewidth=2, facecolor='None')\n",
    "for i in range(0, len(clouds_md_denisty)):\n",
    "    cloud = CircleSkyRegion(center=clouds_md_denisty[i][0], radius=clouds_md_denisty[i][2] * u.deg).to_pixel(dataset_001.counts.geom.wcs)\n",
    "    cloud.plot(ax =ax, edgecolor='blue', linewidth=2)"
   ]
  },
  {
   "cell_type": "code",
   "execution_count": null,
   "id": "e7a5d1e1",
   "metadata": {},
   "outputs": [],
   "source": [
    "fig = plt.figure( dpi=100)\n",
    "ax = fig.add_axes([0.1, 0.1, 0.8, 0.8], \n",
    "                  projection=dataset_001.counts.geom.wcs)\n",
    "\n",
    "ax.imshow(smoothed_gamma_data, vmin=0, vmax=10, origin='lower')\n",
    "ellipse_fermi.plot(ax =ax, edgecolor='green', linewidth=2, facecolor='None')\n",
    "cloud = CircleSkyRegion(center=clouds_md_denisty[3][0], radius=clouds_md_denisty[3][2] * u.deg).to_pixel(dataset_001.counts.geom.wcs)\n",
    "cloud.plot(ax =ax, edgecolor='blue', linewidth=2)"
   ]
  },
  {
   "cell_type": "code",
   "execution_count": null,
   "id": "0e9f5ef6",
   "metadata": {},
   "outputs": [],
   "source": [
    "for i in range(0, len(clouds_md_denisty)):\n",
    "    print('Cloud number', i, 'at a distance of', clouds_md_denisty[i][1], 'with a density of', clouds_md_denisty[i][3], '.The cloud number in the original file is:', clouds_md_denisty[i][4])"
   ]
  },
  {
   "cell_type": "markdown",
   "id": "f53a4845",
   "metadata": {},
   "source": [
    "# Possible Cloud candidates:"
   ]
  },
  {
   "cell_type": "code",
   "execution_count": null,
   "id": "52e31374",
   "metadata": {},
   "outputs": [],
   "source": [
    "fig = plt.figure( dpi=100)\n",
    "ax = fig.add_axes([0.1, 0.1, 0.8, 0.8], \n",
    "                  projection=dataset_001.counts.geom.wcs)\n",
    "\n",
    "from matplotlib.lines import Line2D\n",
    "custom_lines = [Line2D([0], [0], color='blue', lw=2),\n",
    "                Line2D([0], [0], color='pink', lw=2),\n",
    "                Line2D([0], [0], color='orange', lw=2),\n",
    "               Line2D([0], [0], color='green', lw=2)]\n",
    "\n",
    "ax.imshow(smoothed_gamma_data, vmin=0, vmax=10, origin='lower')\n",
    "ellipse_fermi.plot(ax =ax, edgecolor='green', linewidth=2, facecolor='None')\n",
    "cloud1 = CircleSkyRegion(center=clouds_md_denisty[0][0], radius=clouds_md_denisty[0][2] * u.deg).to_pixel(dataset_001.counts.geom.wcs).plot(ax =ax, edgecolor='blue', linewidth=2)\n",
    "cloud2 = CircleSkyRegion(center=clouds_md[4][0], radius=clouds_md[4][2] * u.deg).to_pixel(dataset_001.counts.geom.wcs).plot(ax =ax, edgecolor='pink', linewidth=2)\n",
    "cloud3 = CircleSkyRegion(center=clouds_md_denisty[3][0], radius=clouds_md_denisty[3][2] * u.deg).to_pixel(dataset_001.counts.geom.wcs).plot(ax =ax, edgecolor='orange', linewidth=2)\n",
    "fig.legend(custom_lines, ['distance of 4.6[kpc], density of 60[1/cm3]', 'distance of 10[kpc], density of 2.7[1/cm3]', 'distance of 8.6[kpc], density of 27[1/cm3]', 'LAT-extension, distance 6.2 to 12 kpc'])\n",
    "fig = plt.gcf()\n",
    "save(fig, 'molecular_cloud_candidates')"
   ]
  },
  {
   "cell_type": "code",
   "execution_count": null,
   "id": "fff359d7",
   "metadata": {},
   "outputs": [],
   "source": [
    "fig = plt.figure( dpi=100)\n",
    "ax = fig.add_axes([0.1, 0.1, 0.8, 0.8], \n",
    "                  projection=dataset_001.counts.geom.wcs)\n",
    "\n",
    "from matplotlib.lines import Line2D\n",
    "custom_lines = [Line2D([0], [0], color='blue', lw=2),\n",
    "                Line2D([0], [0], color='pink', lw=2),\n",
    "                Line2D([0], [0], color='orange', lw=2),\n",
    "               Line2D([0], [0], color='green', lw=2)]\n",
    "\n",
    "ax.imshow(smoothed_gamma_data, vmin=0, vmax=10, origin='lower')\n",
    "ellipse_fermi.plot(ax =ax, edgecolor='green', linewidth=2, facecolor='None')\n",
    "cloud1 = CircleSkyRegion(center=clouds_md_denisty[0][0], radius=clouds_md_denisty[0][2] * u.deg).to_pixel(dataset_001.counts.geom.wcs).plot(ax =ax, edgecolor='blue', linewidth=2)\n",
    "cloud2 = CircleSkyRegion(center=clouds_md[4][0], radius=clouds_md[4][2] * u.deg).to_pixel(dataset_001.counts.geom.wcs).plot(ax =ax, edgecolor='pink', linewidth=2)\n",
    "cloud3 = CircleSkyRegion(center=clouds_md_denisty[3][0], radius=clouds_md_denisty[3][2] * u.deg).to_pixel(dataset_001.counts.geom.wcs).plot(ax =ax, edgecolor='orange', linewidth=2)\n",
    "fig.legend(custom_lines, ['distance of 4.6[kpc], density of 60[1/cm3]', 'distance of 10[kpc], density of 2.7[1/cm3]', 'distance of 8.6[kpc], density of 27[1/cm3]', 'LAT-extension'])"
   ]
  },
  {
   "cell_type": "code",
   "execution_count": null,
   "id": "24753cb6",
   "metadata": {},
   "outputs": [],
   "source": []
  },
  {
   "cell_type": "code",
   "execution_count": null,
   "id": "5d699872",
   "metadata": {},
   "outputs": [],
   "source": []
  },
  {
   "cell_type": "code",
   "execution_count": null,
   "id": "0550753c",
   "metadata": {},
   "outputs": [],
   "source": []
  },
  {
   "cell_type": "code",
   "execution_count": null,
   "id": "01a739fe",
   "metadata": {},
   "outputs": [],
   "source": []
  },
  {
   "cell_type": "code",
   "execution_count": null,
   "id": "b0aa9e52",
   "metadata": {},
   "outputs": [],
   "source": []
  },
  {
   "cell_type": "code",
   "execution_count": null,
   "id": "d92b191d",
   "metadata": {},
   "outputs": [],
   "source": []
  }
 ],
 "metadata": {
  "kernelspec": {
   "display_name": "Python 3 (ipykernel)",
   "language": "python",
   "name": "python3"
  },
  "language_info": {
   "codemirror_mode": {
    "name": "ipython",
    "version": 3
   },
   "file_extension": ".py",
   "mimetype": "text/x-python",
   "name": "python",
   "nbconvert_exporter": "python",
   "pygments_lexer": "ipython3",
   "version": "3.7.13"
  }
 },
 "nbformat": 4,
 "nbformat_minor": 5
}
