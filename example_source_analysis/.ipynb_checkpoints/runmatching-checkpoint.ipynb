{
 "cells": [
  {
   "cell_type": "code",
   "execution_count": 1,
   "id": "e167b71e-447a-4b31-bb00-38d8643cebca",
   "metadata": {},
   "outputs": [],
   "source": [
    "import runmatching_utilities as util\n",
    "import numpy as np\n",
    "import pandas as pd\n",
    "from importlib import reload\n",
    "import astropy.units as u\n",
    "from astropy.coordinates import SkyCoord"
   ]
  },
  {
   "cell_type": "code",
   "execution_count": 2,
   "id": "6fd036d3-9732-48dc-9f2f-68c90a8bc176",
   "metadata": {},
   "outputs": [],
   "source": [
    "import runmatching_utilities as util"
   ]
  },
  {
   "cell_type": "code",
   "execution_count": 3,
   "id": "f3701543-b634-4202-9b0f-edccc6db2ebc",
   "metadata": {},
   "outputs": [
    {
     "data": {
      "text/plain": [
       "<module 'runmatching_utilities' from '/home/wecapstor1/caph/mppi103h/code/On-OFF-matching-woody/runmatching_utilities.py'>"
      ]
     },
     "execution_count": 3,
     "metadata": {},
     "output_type": "execute_result"
    }
   ],
   "source": [
    "from importlib import reload\n",
    "reload(util)"
   ]
  },
  {
   "cell_type": "markdown",
   "id": "132680eb-1726-4883-af44-7719c4eb915b",
   "metadata": {},
   "source": [
    "# Get a list of Observations on your Target source"
   ]
  },
  {
   "cell_type": "code",
   "execution_count": 4,
   "id": "8c2c17be-cdcb-46b4-a978-5f2b1408ce84",
   "metadata": {},
   "outputs": [
    {
     "data": {
      "text/plain": [
       "<SkyCoord (ICRS): (ra, dec) in deg\n",
       "    (164.49001018, -52.44658956)>"
      ]
     },
     "execution_count": 4,
     "metadata": {},
     "output_type": "execute_result"
    }
   ],
   "source": [
    "SkyCoord(l=285.98*u.degree, b=6.65*u.degree, frame='galactic').icrs"
   ]
  },
  {
   "cell_type": "code",
   "execution_count": 5,
   "id": "9c047f83-d02e-4054-b9b5-d977b78ce7e3",
   "metadata": {},
   "outputs": [],
   "source": [
    "runlist = util.query_runs(TargetRA=272.4583, TargetDec=-23.5397, Radius=3, TelPattern='fits')"
   ]
  },
  {
   "cell_type": "code",
   "execution_count": 13,
   "id": "2a749649-a15f-405a-82a3-984168f42f9a",
   "metadata": {},
   "outputs": [],
   "source": [
    "#define your analysis configuration (for more information see runmatching_utilities)\n",
    "# HESSEra defines the era of quality cuts, HESS1 or HESS2\n",
    "# FitsEra defines the fits file configuration, HESS1, HESS2 or HESS1u\n",
    "quality_selection = util.quality_selection(runlist=runlist, HessEra='HESS2', Config='stereo', FitsEra='HESS1u', AnalysisType='spectral')\n",
    "#filter for good quality runs with the selected analysis configuration\n",
    "runlist_filtered = quality_selection.quality_cuts(requireCT5=False, logBadRuns=True)"
   ]
  },
  {
   "cell_type": "code",
   "execution_count": 15,
   "id": "8416fd09-8668-4268-80fe-acd0b79cb232",
   "metadata": {},
   "outputs": [],
   "source": [
    "with open('/home/wecapstor1/caph/mppi103h/On-Off-matching/runlists/PSR_J1809-2332_hess1u_spectral.txt', 'w') as file:\n",
    "    for row in runlist_filtered:\n",
    "        file.write('\\t'.join([str(item) for item in row]))\n",
    "        file.write('\\n')"
   ]
  },
  {
   "cell_type": "markdown",
   "id": "ed831c1b-ac0b-4f09-aa1d-27346bed5905",
   "metadata": {},
   "source": [
    "# How to query for a OFF run list:"
   ]
  },
  {
   "cell_type": "code",
   "execution_count": 40,
   "id": "6e25ccfd-a3bf-4fbd-b16d-b39785856c36",
   "metadata": {},
   "outputs": [],
   "source": [
    "#get all possible OFF runs in the respective hardware phase\n",
    "off_runs = util.query_off_runs(FitsEra='HESS1', dist_to_plane=10)\n",
    "#define your analysis configuration\n",
    "quality_selection = util.quality_selection(runlist=off_runs, HessEra='HESS1', Config='stereo', FitsEra='HESS1', AnalysisType='spectral')\n",
    "#filter for good quality runs with the selected analysis configuration\n",
    "off_runs_filtered = quality_selection.quality_cuts(requireCT5=False, logBadRuns=False, off_run_sel=True)"
   ]
  },
  {
   "cell_type": "code",
   "execution_count": 19,
   "id": "aaa32171-8776-4185-813e-33393096e904",
   "metadata": {},
   "outputs": [],
   "source": [
    "# off_runs_filtered = [x for x in off_runs_filtered if x[0] > 132349 and x[0] < 154814]"
   ]
  },
  {
   "cell_type": "code",
   "execution_count": 20,
   "id": "b11ca79b-9b7a-4c53-9457-2fcf20ba1e13",
   "metadata": {},
   "outputs": [],
   "source": [
    "with open('/home/wecapstor1/caph/mppi103h/On-Off-matching/runlists/OFF_runs_2c2_detection.txt', 'w') as file:\n",
    "    for row in off_runs_filtered:\n",
    "        file.write('\\t'.join([str(item) for item in row]))\n",
    "        file.write('\\n')"
   ]
  },
  {
   "cell_type": "markdown",
   "id": "bf011f89-5dd4-4b91-9756-6f37cb5b545c",
   "metadata": {},
   "source": [
    "# Perform the runmatching operation:"
   ]
  },
  {
   "cell_type": "code",
   "execution_count": 41,
   "id": "6891953c-46f0-4713-8da5-f54b578ed007",
   "metadata": {},
   "outputs": [],
   "source": [
    "on_runs = list(np.loadtxt('/home/wecapstor1/caph/mppi103h/On-Off-matching/runlists/on_off_list_sculptor_test.txt', usecols=(0,), dtype=int))"
   ]
  },
  {
   "cell_type": "code",
   "execution_count": 42,
   "id": "ff4de547-5813-4699-a3de-daf318f8446b",
   "metadata": {},
   "outputs": [],
   "source": [
    "# import random\n",
    "# random.shuffle(on_runs)"
   ]
  },
  {
   "cell_type": "code",
   "execution_count": 43,
   "id": "9c0933a3-949a-4fe5-bd01-e4f37079cea6",
   "metadata": {},
   "outputs": [],
   "source": [
    "off_runs_filtered1 = off_runs_filtered.copy()"
   ]
  },
  {
   "cell_type": "code",
   "execution_count": 44,
   "id": "879f9b17-4eea-4784-ad2e-1bd051b12a46",
   "metadata": {},
   "outputs": [],
   "source": [
    "# RM = util.run_matching(OnRuns=on_runs, OffRuns=off_runs_filtered1, FitsEra= 'HESS1u',  duration=0.07, nsb=0.8, muon_eff=0.11, transparency = 0.06, trig_rate = 0.25, radio=0.5)\n",
    "RM = util.run_matching(OnRuns=on_runs, OffRuns=off_runs_filtered1, FitsEra= 'HESS1', duration=0.25, nsb=0.9, muon_eff=0.19, transparency = 0.19, trig_rate = 0.45, radio=0.55)"
   ]
  },
  {
   "cell_type": "code",
   "execution_count": 45,
   "id": "8b3da3cb-a8b6-495b-b888-69e31a89c66f",
   "metadata": {
    "scrolled": true
   },
   "outputs": [
    {
     "name": "stdout",
     "output_type": "stream",
     "text": [
      "currently working on observation run: 49000\n",
      "currently working on observation run: 49022\n",
      "currently working on observation run: 49202\n",
      "currently working on observation run: 49230\n",
      "currently working on observation run: 49229\n",
      "currently working on observation run: 49231\n",
      "currently working on observation run: 49232\n",
      "currently working on observation run: 49244\n",
      "currently working on observation run: 49247\n",
      "currently working on observation run: 49257\n",
      "currently working on observation run: 49258\n",
      "currently working on observation run: 49259\n",
      "currently working on observation run: 49260\n",
      "currently working on observation run: 49327\n",
      "currently working on observation run: 48857\n",
      "currently working on observation run: 48859\n",
      "currently working on observation run: 48858\n",
      "currently working on observation run: 48874\n",
      "currently working on observation run: 48875\n",
      "currently working on observation run: 48876\n",
      "currently working on observation run: 48895\n",
      "currently working on observation run: 48896\n"
     ]
    }
   ],
   "source": [
    "runmatching_list = RM.matching_operation()"
   ]
  },
  {
   "cell_type": "code",
   "execution_count": 46,
   "id": "7e325fc6-cddf-43d4-bdf0-43276b7161c1",
   "metadata": {},
   "outputs": [],
   "source": [
    "with open('/home/wecapstor1/caph/mppi103h/On-Off-matching/runlists/on_off_list_sculptor_large_validity.txt', 'w') as file:\n",
    "    for row in runmatching_list:\n",
    "        file.write('\\t'.join([str(item) for item in row]))\n",
    "        file.write('\\n')"
   ]
  },
  {
   "cell_type": "markdown",
   "id": "3dfd0093-c7ab-4779-acb9-b437b3346469",
   "metadata": {},
   "source": [
    "# Get a runlist for estimating the systematic errors:"
   ]
  },
  {
   "cell_type": "code",
   "execution_count": 85,
   "id": "c15eb769-eb31-4c04-b2b3-f2fee22f2b70",
   "metadata": {},
   "outputs": [],
   "source": [
    "on_runs = list(np.loadtxt('/home/wecapstor1/caph/mppi103h/On-Off-matching/runlists/final/runlist_pks_set3_sys.txt', usecols=(0,), dtype=int))"
   ]
  },
  {
   "cell_type": "code",
   "execution_count": 65,
   "id": "c0e0af21-f494-42e2-8c7b-a1f5eda900c7",
   "metadata": {},
   "outputs": [],
   "source": [
    "off_runs_filtered1 = off_runs_filtered.copy()"
   ]
  },
  {
   "cell_type": "code",
   "execution_count": 66,
   "id": "6b0b6002-e260-4526-a434-2364eb37f084",
   "metadata": {},
   "outputs": [],
   "source": [
    "RM = util.run_matching(OnRuns=on_runs, OffRuns=off_runs_filtered1, FitsEra= 'HESS1u', duration=0.07, nsb=0.8, muon_eff=0.11, transparency = 0.06, trig_rate = 0.25, radio=0.5)"
   ]
  },
  {
   "cell_type": "code",
   "execution_count": 67,
   "id": "aef5136b-2012-4c34-9838-d370333ff7b0",
   "metadata": {},
   "outputs": [
    {
     "name": "stdout",
     "output_type": "stream",
     "text": [
      "currently working on observation run: 140459\n",
      "currently working on observation run: 140460\n",
      "currently working on observation run: 140617\n",
      "currently working on observation run: 140618\n",
      "currently working on observation run: 141270\n",
      "currently working on observation run: 141329\n",
      "currently working on observation run: 141344\n",
      "currently working on observation run: 141345\n",
      "currently working on observation run: 141574\n",
      "currently working on observation run: 141689\n",
      "currently working on observation run: 141779\n",
      "currently working on observation run: 141849\n",
      "currently working on observation run: 141883\n",
      "currently working on observation run: 141913\n",
      "currently working on observation run: 141916\n",
      "currently working on observation run: 142269\n",
      "currently working on observation run: 142270\n",
      "currently working on observation run: 142352\n",
      "currently working on observation run: 142441\n",
      "currently working on observation run: 142557\n",
      "currently working on observation run: 142584\n",
      "currently working on observation run: 142885\n",
      "currently working on observation run: 143148\n",
      "currently working on observation run: 149046\n",
      "currently working on observation run: 149956\n",
      "currently working on observation run: 150110\n",
      "currently working on observation run: 150150\n",
      "currently working on observation run: 150247\n",
      "currently working on observation run: 150312\n",
      "currently working on observation run: 150941\n"
     ]
    }
   ],
   "source": [
    "systematic_list = RM.matching_operation_systematics()"
   ]
  },
  {
   "cell_type": "code",
   "execution_count": 68,
   "id": "3c8809e9-a68d-4800-a763-ce688f9896ff",
   "metadata": {},
   "outputs": [],
   "source": [
    "with open('/home/wecapstor1/caph/mppi103h/On-Off-matching/runlists/final/onofflist_pks_set3_sys.txt', 'w') as file:\n",
    "    for row in systematic_list:\n",
    "        file.write('\\t'.join([str(item) for item in row]))\n",
    "        file.write('\\n')"
   ]
  },
  {
   "cell_type": "code",
   "execution_count": null,
   "id": "f53ea16b-943f-4d34-a949-2383e5b7db8b",
   "metadata": {},
   "outputs": [],
   "source": []
  }
 ],
 "metadata": {
  "kernelspec": {
   "display_name": "Python 3 (ipykernel)",
   "language": "python",
   "name": "python3"
  },
  "language_info": {
   "codemirror_mode": {
    "name": "ipython",
    "version": 3
   },
   "file_extension": ".py",
   "mimetype": "text/x-python",
   "name": "python",
   "nbconvert_exporter": "python",
   "pygments_lexer": "ipython3",
   "version": "3.10.14"
  }
 },
 "nbformat": 4,
 "nbformat_minor": 5
}
